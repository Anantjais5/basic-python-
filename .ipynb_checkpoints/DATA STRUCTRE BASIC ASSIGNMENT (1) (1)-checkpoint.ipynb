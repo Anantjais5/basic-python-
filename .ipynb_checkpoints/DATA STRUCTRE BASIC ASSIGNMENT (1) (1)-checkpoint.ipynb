{
 "cells": [
  {
   "cell_type": "code",
   "execution_count": 1,
   "id": "13fdc6d6-95e8-49cb-a9c8-b711c312b548",
   "metadata": {},
   "outputs": [
    {
     "data": {
      "text/plain": [
       "'good'"
      ]
     },
     "execution_count": 1,
     "metadata": {},
     "output_type": "execute_result"
    }
   ],
   "source": [
    "#DISCUSS STRING SLCING AND PROVIDE EXAMPLES.\n",
    "\n",
    "\n",
    "#STRINNG SLICING IS A FEATURE IN PYTHON WICH ALLOWS US TO EXTRATC A PART FROM THE STRINGS WITH THE HELP OR RANGE OF THE ELEMETS IN INDEX. BY START AND END\n",
    "\n",
    "\n",
    "str=\"hello good morning\"\n",
    "str[6:10]"
   ]
  },
  {
   "cell_type": "code",
   "execution_count": 2,
   "id": "8af1d002-6f86-47ef-8da7-1587a2835dd0",
   "metadata": {},
   "outputs": [
    {
     "data": {
      "text/plain": [
       "'hello '"
      ]
     },
     "execution_count": 2,
     "metadata": {},
     "output_type": "execute_result"
    }
   ],
   "source": [
    "str[0:6]"
   ]
  },
  {
   "cell_type": "code",
   "execution_count": 3,
   "id": "c0cf14b5-c5bc-43bf-bc50-c7a9194c447a",
   "metadata": {},
   "outputs": [
    {
     "data": {
      "text/plain": [
       "'gninrom doog olleh'"
      ]
     },
     "execution_count": 3,
     "metadata": {},
     "output_type": "execute_result"
    }
   ],
   "source": [
    "#reverse string\n",
    "str[::-1]"
   ]
  },
  {
   "cell_type": "code",
   "execution_count": 4,
   "id": "df9e134b-cb17-404b-8509-ecc246578aad",
   "metadata": {},
   "outputs": [
    {
     "data": {
      "text/plain": [
       "1"
      ]
     },
     "execution_count": 4,
     "metadata": {},
     "output_type": "execute_result"
    }
   ],
   "source": [
    "#explain the key features of list in pyhton.\n",
    "\n",
    "#list can stored any type of data like strings int and the things inside the list is generaly called as an element.\n",
    "\n",
    "\n",
    "\n",
    "#list are muttaable  \n",
    "lis=[1,2,3,4,5]\n",
    "lis[0]"
   ]
  },
  {
   "cell_type": "code",
   "execution_count": 5,
   "id": "39efb6d2-c429-410f-b4d0-4d14fb4c9a41",
   "metadata": {},
   "outputs": [],
   "source": [
    "#to change the element in list which is i index num 2 as 3 now it will change this to 7 and this is called muttable.\n",
    "lis[2]=7"
   ]
  },
  {
   "cell_type": "code",
   "execution_count": 6,
   "id": "e92a3af8-ae41-46bb-97fa-b58e3f37ccd9",
   "metadata": {},
   "outputs": [
    {
     "data": {
      "text/plain": [
       "[1, 2, 7, 4, 5]"
      ]
     },
     "execution_count": 6,
     "metadata": {},
     "output_type": "execute_result"
    }
   ],
   "source": [
    "lis"
   ]
  },
  {
   "cell_type": "code",
   "execution_count": 7,
   "id": "708130d1-b5e3-43c8-9d74-0ca857e37bc3",
   "metadata": {},
   "outputs": [],
   "source": [
    "lis=[\"pw\"]\n",
    "lis1=[\"skills\"]"
   ]
  },
  {
   "cell_type": "code",
   "execution_count": 8,
   "id": "3aa8c080-8951-4667-80ec-7fbd7acf3008",
   "metadata": {},
   "outputs": [
    {
     "data": {
      "text/plain": [
       "['pw', 'skills']"
      ]
     },
     "execution_count": 8,
     "metadata": {},
     "output_type": "execute_result"
    }
   ],
   "source": [
    "lis+lis1"
   ]
  },
  {
   "cell_type": "code",
   "execution_count": 9,
   "id": "e640bd86-57c5-42a7-bfb3-9d1237a68d4e",
   "metadata": {},
   "outputs": [
    {
     "data": {
      "text/plain": [
       "'ravi'"
      ]
     },
     "execution_count": 9,
     "metadata": {},
     "output_type": "execute_result"
    }
   ],
   "source": [
    "# Describe how to access,moddify and delete elements in a list with examples.\n",
    "\n",
    "#to access the elements.\n",
    "#acces ravi in list\n",
    "lis=[\"ajay\",\"ravi\",\"rohit\"]\n",
    "lis[1]\n"
   ]
  },
  {
   "cell_type": "code",
   "execution_count": 10,
   "id": "f703dd23-15e6-4d2e-b994-16c8d3447923",
   "metadata": {},
   "outputs": [],
   "source": [
    "#moddify the elements.\n",
    "#modify the element ravi to anant.\n",
    "lis[1]=(\"anant\")"
   ]
  },
  {
   "cell_type": "code",
   "execution_count": 11,
   "id": "cdd1ad30-2e23-4aaa-b5fc-f8147d80bf9f",
   "metadata": {},
   "outputs": [
    {
     "data": {
      "text/plain": [
       "['ajay', 'anant', 'rohit']"
      ]
     },
     "execution_count": 11,
     "metadata": {},
     "output_type": "execute_result"
    }
   ],
   "source": [
    "lis"
   ]
  },
  {
   "cell_type": "code",
   "execution_count": 12,
   "id": "02bbd3a3-14a7-495a-be5b-cc704c6145ca",
   "metadata": {},
   "outputs": [],
   "source": [
    "#delet the elements\n",
    "#here it will delet the element num 4 which is 55\n",
    "l=[1,2,3,4,55,6]\n"
   ]
  },
  {
   "cell_type": "code",
   "execution_count": 13,
   "id": "1ed69e3a-16be-4800-86f6-e18c13b50830",
   "metadata": {},
   "outputs": [],
   "source": [
    "del l[4]"
   ]
  },
  {
   "cell_type": "code",
   "execution_count": 14,
   "id": "968366b7-3dca-4c67-ad45-0f6ca9bf5579",
   "metadata": {},
   "outputs": [
    {
     "data": {
      "text/plain": [
       "[1, 2, 3, 4, 6]"
      ]
     },
     "execution_count": 14,
     "metadata": {},
     "output_type": "execute_result"
    }
   ],
   "source": [
    "l"
   ]
  },
  {
   "cell_type": "code",
   "execution_count": 15,
   "id": "b625fc82-360f-44c2-bf75-fcf80100e8c8",
   "metadata": {},
   "outputs": [
    {
     "data": {
      "text/plain": [
       "list"
      ]
     },
     "execution_count": 15,
     "metadata": {},
     "output_type": "execute_result"
    }
   ],
   "source": [
    "#Compare and contrast tuples and lists with examples.\n",
    "#list are muttable and tupples are immutable.\n",
    "#list are always separeted with commas with in square bracket.\n",
    "#tuples are always separeted with commas with in paranthesis.\n",
    "\n",
    "\n",
    "\n",
    "#list\n",
    "lis=[12,54,51,21,54,]\n",
    "type(lis)"
   ]
  },
  {
   "cell_type": "code",
   "execution_count": 16,
   "id": "60ca6f69-2a5e-4ae8-bc65-bc156a8b14dd",
   "metadata": {},
   "outputs": [],
   "source": [
    "#tuple\n",
    "hi=(1,21,21,2121,12)"
   ]
  },
  {
   "cell_type": "code",
   "execution_count": 17,
   "id": "c8ec83a0-f49a-4596-936b-d22d6626c8dc",
   "metadata": {},
   "outputs": [
    {
     "data": {
      "text/plain": [
       "tuple"
      ]
     },
     "execution_count": 17,
     "metadata": {},
     "output_type": "execute_result"
    }
   ],
   "source": [
    "type(hi)"
   ]
  },
  {
   "cell_type": "code",
   "execution_count": 18,
   "id": "4c75a29b-f997-4a58-a7ba-3afd52d28986",
   "metadata": {},
   "outputs": [],
   "source": [
    "#the third element which is 2121 now it will change to 300. \n",
    "lis[3]=300"
   ]
  },
  {
   "cell_type": "code",
   "execution_count": 19,
   "id": "e78661e7-9728-4dfb-bbd9-52502bf651e8",
   "metadata": {},
   "outputs": [
    {
     "data": {
      "text/plain": [
       "[12, 54, 51, 300, 54]"
      ]
     },
     "execution_count": 19,
     "metadata": {},
     "output_type": "execute_result"
    }
   ],
   "source": [
    "lis"
   ]
  },
  {
   "cell_type": "code",
   "execution_count": 20,
   "id": "4cbfbe65-7cca-41f0-a13e-da400dcbb2b0",
   "metadata": {},
   "outputs": [
    {
     "data": {
      "text/plain": [
       "21"
      ]
     },
     "execution_count": 20,
     "metadata": {},
     "output_type": "execute_result"
    }
   ],
   "source": [
    "# as we know that tupples are immutale so we cannot change their elements after creation but we can access the elements.\n",
    "#access elements\n",
    "hi[2]"
   ]
  },
  {
   "cell_type": "code",
   "execution_count": 21,
   "id": "863a88dd-d0c9-40d0-b7ab-11efdcf708cf",
   "metadata": {},
   "outputs": [
    {
     "ename": "TypeError",
     "evalue": "'tuple' object does not support item assignment",
     "output_type": "error",
     "traceback": [
      "\u001b[0;31m---------------------------------------------------------------------------\u001b[0m",
      "\u001b[0;31mTypeError\u001b[0m                                 Traceback (most recent call last)",
      "Cell \u001b[0;32mIn[21], line 2\u001b[0m\n\u001b[1;32m      1\u001b[0m \u001b[38;5;66;03m#modify tuples>> it will give you error\u001b[39;00m\n\u001b[0;32m----> 2\u001b[0m \u001b[43mhi\u001b[49m\u001b[43m[\u001b[49m\u001b[38;5;241;43m2\u001b[39;49m\u001b[43m]\u001b[49m\u001b[38;5;241m=\u001b[39m\u001b[38;5;241m25\u001b[39m\n",
      "\u001b[0;31mTypeError\u001b[0m: 'tuple' object does not support item assignment"
     ]
    }
   ],
   "source": [
    "#modify tuples>> it will give you error\n",
    "hi[2]=25"
   ]
  },
  {
   "cell_type": "code",
   "execution_count": null,
   "id": "858e95b5-e7bd-42e8-a59e-d45f6f42de96",
   "metadata": {},
   "outputs": [],
   "source": [
    "#Describe the key features of sets and provide examples of their set.\n",
    "\n",
    "#sets are muttable.\n",
    "#sets have unique elements always set doest not allow duplicates.\n",
    "#Unlike lists or tuples, sets do not support indexing, slicing, or other sequence-like behavior.\n",
    "s={1,2,3,4}\n",
    "s"
   ]
  },
  {
   "cell_type": "code",
   "execution_count": 22,
   "id": "1aa25df2-f287-495e-bdf8-58e4341c3875",
   "metadata": {},
   "outputs": [
    {
     "ename": "NameError",
     "evalue": "name 's' is not defined",
     "output_type": "error",
     "traceback": [
      "\u001b[0;31m---------------------------------------------------------------------------\u001b[0m",
      "\u001b[0;31mNameError\u001b[0m                                 Traceback (most recent call last)",
      "Cell \u001b[0;32mIn[22], line 1\u001b[0m\n\u001b[0;32m----> 1\u001b[0m \u001b[43ms\u001b[49m(\u001b[38;5;241m2\u001b[39m)\u001b[38;5;66;03m#set object is not callable.\u001b[39;00m\n",
      "\u001b[0;31mNameError\u001b[0m: name 's' is not defined"
     ]
    }
   ],
   "source": [
    "s(2)#set object is not callable."
   ]
  },
  {
   "cell_type": "code",
   "execution_count": 23,
   "id": "38114997-6549-454f-a240-b33d696f2a2b",
   "metadata": {},
   "outputs": [
    {
     "data": {
      "text/plain": [
       "{1, 2, 3, 4, 5, 6}"
      ]
     },
     "execution_count": 23,
     "metadata": {},
     "output_type": "execute_result"
    }
   ],
   "source": [
    "#adding and removing elements from the sets.\n",
    "#adding\n",
    "s1={1,2,3,4,5}\n",
    "s1.add(6)\n",
    "s1"
   ]
  },
  {
   "cell_type": "code",
   "execution_count": 24,
   "id": "f7082f90-416b-4783-9325-32200662164a",
   "metadata": {},
   "outputs": [
    {
     "data": {
      "text/plain": [
       "{1, 2, 4, 5, 6}"
      ]
     },
     "execution_count": 24,
     "metadata": {},
     "output_type": "execute_result"
    }
   ],
   "source": [
    "#removing\n",
    "s1.remove(3)\n",
    "s1"
   ]
  },
  {
   "cell_type": "code",
   "execution_count": 25,
   "id": "f9923e35-203c-492c-ac36-537bf5151d4a",
   "metadata": {},
   "outputs": [
    {
     "data": {
      "text/plain": [
       "{1, 2, 4, 5, 6}"
      ]
     },
     "execution_count": 25,
     "metadata": {},
     "output_type": "execute_result"
    }
   ],
   "source": [
    "s1.add(2)#here it is not adding 2 because sets does not allows duplicates.\n",
    "s1"
   ]
  },
  {
   "cell_type": "code",
   "execution_count": 26,
   "id": "33363b8f-2fc6-4971-96d8-542d2200fe55",
   "metadata": {},
   "outputs": [
    {
     "data": {
      "text/plain": [
       "{1, 2, 3, 4, 5, 6}"
      ]
     },
     "execution_count": 26,
     "metadata": {},
     "output_type": "execute_result"
    }
   ],
   "source": [
    "s2={1,2,3,4,4,5,5,6}\n",
    "s2"
   ]
  },
  {
   "cell_type": "code",
   "execution_count": 27,
   "id": "f8bec848-3ac2-4e2e-bdd6-3e4ec1a6fe6c",
   "metadata": {},
   "outputs": [],
   "source": [
    "# Discuss the use cases of tuples and sets in Python programming.\n",
    "#tuples\n",
    "#if you want the data in your collection to be read-only, never to change, and always remain the same.\n",
    "# Tuples are ordered collections of elements\n",
    "#tuples are immutable they can't be changed once created.\n",
    "#tuples allow duplicates.\n",
    "#in tuples you can access the elements by indexing\n",
    "\n",
    "\n",
    "\n",
    "\n",
    "#sets\n",
    "#sets can store collection of data in a single varriable.\n",
    "#sets are  unordered collection of elements\n",
    "#sets are muttable they can be changed after creations.\n",
    "#sets doesot allow duplicates. it allways contains the unique elements.\n",
    "#set not allows indexing.\n",
    "\n",
    "\n"
   ]
  },
  {
   "cell_type": "code",
   "execution_count": 28,
   "id": "ce50058b-fad3-48d2-b58e-9ed6742e0eba",
   "metadata": {},
   "outputs": [],
   "source": [
    "#Describe how to add,modify and delete items in a dictionary with examples\n",
    "prod={\"jeans\":2500, \"tshirts\":25,\"shirts\":1299}"
   ]
  },
  {
   "cell_type": "code",
   "execution_count": 29,
   "id": "93c0194a-0ad6-4eb7-bb7d-f4cec828c416",
   "metadata": {},
   "outputs": [
    {
     "data": {
      "text/plain": [
       "{'jeans': 2500, 'tshirts': 25, 'shirts': 1299, 'shoes': 4999}"
      ]
     },
     "execution_count": 29,
     "metadata": {},
     "output_type": "execute_result"
    }
   ],
   "source": [
    "#add\n",
    "prod[\"shoes\"]=4999\n",
    "prod"
   ]
  },
  {
   "cell_type": "code",
   "execution_count": 30,
   "id": "0a1740f4-685a-4516-a908-46081aafc211",
   "metadata": {},
   "outputs": [
    {
     "data": {
      "text/plain": [
       "{'jeans': 3999, 'tshirts': 25, 'shirts': 1299, 'shoes': 4999}"
      ]
     },
     "execution_count": 30,
     "metadata": {},
     "output_type": "execute_result"
    }
   ],
   "source": [
    "#modify\n",
    "prod[\"jeans\"]=3999\n",
    "prod"
   ]
  },
  {
   "cell_type": "code",
   "execution_count": 31,
   "id": "8d96d4b8-6e59-475f-8412-cd142bd0f3dd",
   "metadata": {},
   "outputs": [],
   "source": [
    "#delete \n",
    "del prod[\"tshirts\"]"
   ]
  },
  {
   "cell_type": "code",
   "execution_count": 32,
   "id": "7c4f694e-2afd-4d07-96f7-13493cbcb95c",
   "metadata": {},
   "outputs": [
    {
     "data": {
      "text/plain": [
       "{'jeans': 3999, 'shirts': 1299, 'shoes': 4999}"
      ]
     },
     "execution_count": 32,
     "metadata": {},
     "output_type": "execute_result"
    }
   ],
   "source": [
    "prod"
   ]
  },
  {
   "cell_type": "code",
   "execution_count": 33,
   "id": "4b5dad70-7a2c-4958-be0d-b771cfd89113",
   "metadata": {},
   "outputs": [
    {
     "data": {
      "text/plain": [
       "{'name': 'anant', 'age': 25, 'city': 'siswa baar'}"
      ]
     },
     "execution_count": 33,
     "metadata": {},
     "output_type": "execute_result"
    }
   ],
   "source": [
    "#Discuss the importance of dictionary keys being immutable and provide example.\n",
    "\n",
    "#Hash Consistency: If a key were mutable, its value could change after it's been added to the dictionary.\n",
    "# This would result in a change in the hash value, which would invalidate its position in the hash table.\n",
    "#Efficiency: Immutable keys are surely gurantee that hash value of a key allways be the same for life time.\n",
    "#Immutability helps maintain data integrity by preventing accidental modifications to keys.\n",
    "details={\"name\":\"anant\",\"age\":25,\"city\":\"siswa baar\"}\n",
    "details\n"
   ]
  },
  {
   "cell_type": "code",
   "execution_count": 34,
   "id": "18adae7c-9c30-4899-afb6-b30ce5524a1a",
   "metadata": {},
   "outputs": [],
   "source": [
    "#name age and city these all are strings. which is immutable in python if any one of them is muttable and their value is changed after adding to the dictionaries.\n",
    "#the dictionary's internal structure would be shows an  unpredictable results.\n",
    "\n"
   ]
  },
  {
   "cell_type": "code",
   "execution_count": null,
   "id": "8f87dd6c-4ae0-48f0-889f-7d4e5b28c4dc",
   "metadata": {},
   "outputs": [],
   "source": []
  },
  {
   "cell_type": "code",
   "execution_count": null,
   "id": "62411bb8-40a9-44da-aea6-9a5b51caa236",
   "metadata": {},
   "outputs": [],
   "source": []
  },
  {
   "cell_type": "code",
   "execution_count": null,
   "id": "7a78eee6-8178-40dd-aec4-48ce20f474a2",
   "metadata": {},
   "outputs": [],
   "source": []
  }
 ],
 "metadata": {
  "kernelspec": {
   "display_name": "Python 3 (ipykernel)",
   "language": "python",
   "name": "python3"
  },
  "language_info": {
   "codemirror_mode": {
    "name": "ipython",
    "version": 3
   },
   "file_extension": ".py",
   "mimetype": "text/x-python",
   "name": "python",
   "nbconvert_exporter": "python",
   "pygments_lexer": "ipython3",
   "version": "3.10.8"
  }
 },
 "nbformat": 4,
 "nbformat_minor": 5
}
